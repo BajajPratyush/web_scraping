{
 "cells": [
  {
   "cell_type": "markdown",
   "id": "dd6dcf58",
   "metadata": {},
   "source": [
    "# Scraping list from an searched flipkart product"
   ]
  },
  {
   "cell_type": "markdown",
   "id": "6a0a5d58",
   "metadata": {},
   "source": [
    "### Project Outline:\n",
    "- For example purpose we are going to scrape this URL:https://www.flipkart.com/search?q=mobiles+under+20000&as=on&as-show=on&otracker=AS_Query_OrganicAutoSuggest_3_8_na_na_na&otracker1=AS_Query_OrganicAutoSuggest_3_8_na_na_na&as-pos=3&as-type=RECENT&suggestionId=mobiles+under+20000&requestId=db87adf1-4f6c-4884-b26e-6e9053b9f6f8&as-backfill=on\n",
    "- If we look carefully in the URL we can see that I searched for \"Mobile Phones under 20000\" in the Amazon search bar\n",
    "- We will extract all the data which is displayed to us in the first page of this flipkart search\n",
    "- The data which we will extract is the name of the device, price of the device, no of reviews(stars? maybe?!) and URL to that device so one can go and know deeper about that devce.\n"
   ]
  },
  {
   "cell_type": "code",
   "execution_count": 1,
   "id": "c099a99b",
   "metadata": {},
   "outputs": [
    {
     "name": "stdout",
     "output_type": "stream",
     "text": [
      "Note: you may need to restart the kernel to use updated packages.\n"
     ]
    }
   ],
   "source": [
    "pip install bs4 --quiet"
   ]
  },
  {
   "cell_type": "code",
   "execution_count": 2,
   "id": "456cd6b8",
   "metadata": {},
   "outputs": [],
   "source": [
    "from bs4 import BeautifulSoup"
   ]
  },
  {
   "cell_type": "code",
   "execution_count": 3,
   "id": "2f0ced9c",
   "metadata": {},
   "outputs": [],
   "source": [
    "import requests"
   ]
  },
  {
   "cell_type": "code",
   "execution_count": 4,
   "id": "fcce5d88",
   "metadata": {},
   "outputs": [],
   "source": [
    "products_url=\"https://www.flipkart.com/search?q=mobiles+under+20000&as=on&as-show=on&otracker=AS_Query_OrganicAutoSuggest_3_8_na_na_na&otracker1=AS_Query_OrganicAutoSuggest_3_8_na_na_na&as-pos=3&as-type=RECENT&suggestionId=mobiles+under+20000&requestId=db87adf1-4f6c-4884-b26e-6e9053b9f6f8&as-backfill=on\""
   ]
  },
  {
   "cell_type": "code",
   "execution_count": 5,
   "id": "23d8a326",
   "metadata": {},
   "outputs": [],
   "source": [
    "response=requests.get(products_url)"
   ]
  },
  {
   "cell_type": "code",
   "execution_count": 6,
   "id": "d2f53a7b",
   "metadata": {},
   "outputs": [
    {
     "data": {
      "text/plain": [
       "200"
      ]
     },
     "execution_count": 6,
     "metadata": {},
     "output_type": "execute_result"
    }
   ],
   "source": [
    "response.status_code"
   ]
  },
  {
   "cell_type": "code",
   "execution_count": 7,
   "id": "8dd86e1b",
   "metadata": {},
   "outputs": [],
   "source": [
    "page_contents = response.text"
   ]
  },
  {
   "cell_type": "code",
   "execution_count": 8,
   "id": "75546859",
   "metadata": {},
   "outputs": [],
   "source": [
    "doc = BeautifulSoup(page_contents,'html.parser')"
   ]
  },
  {
   "cell_type": "code",
   "execution_count": 9,
   "id": "badd0212",
   "metadata": {},
   "outputs": [],
   "source": [
    "heading_class = \"_4rR01T\"\n",
    "heading_tags = doc.findAll('div',class_= heading_class)\n",
    "name_text = []"
   ]
  },
  {
   "cell_type": "code",
   "execution_count": 10,
   "id": "b1299755",
   "metadata": {},
   "outputs": [
    {
     "data": {
      "text/plain": [
       "[<div class=\"_4rR01T\">realme 8i (Space Black, 128 GB)</div>,\n",
       " <div class=\"_4rR01T\">realme 9i (Prism Black, 128 GB)</div>,\n",
       " <div class=\"_4rR01T\">realme 9i (Prism Blue, 128 GB)</div>,\n",
       " <div class=\"_4rR01T\">MOTOROLA G40 Fusion (Dynamic Gray, 128 GB)</div>]"
      ]
     },
     "execution_count": 10,
     "metadata": {},
     "output_type": "execute_result"
    }
   ],
   "source": [
    "heading_tags[:4]"
   ]
  },
  {
   "cell_type": "code",
   "execution_count": 11,
   "id": "97d5b8ef",
   "metadata": {},
   "outputs": [],
   "source": [
    "price_class = \"_30jeq3 _1_WHN1\"\n",
    "price_tags = doc.findAll('div', class_=price_class)\n",
    "price_text = [] "
   ]
  },
  {
   "cell_type": "code",
   "execution_count": 12,
   "id": "213662fc",
   "metadata": {},
   "outputs": [
    {
     "data": {
      "text/plain": [
       "[<div class=\"_30jeq3 _1_WHN1\">₹15,999</div>,\n",
       " <div class=\"_30jeq3 _1_WHN1\">₹15,999</div>,\n",
       " <div class=\"_30jeq3 _1_WHN1\">₹15,999</div>,\n",
       " <div class=\"_30jeq3 _1_WHN1\">₹16,499</div>]"
      ]
     },
     "execution_count": 12,
     "metadata": {},
     "output_type": "execute_result"
    }
   ],
   "source": [
    "price_tags[:4]"
   ]
  },
  {
   "cell_type": "code",
   "execution_count": 13,
   "id": "aa2812e6",
   "metadata": {},
   "outputs": [
    {
     "data": {
      "text/plain": [
       "[<div class=\"_3LWZlK\">4.4<img class=\"_1wB99o\" src=\"data:image/svg+xml;base64,PHN2ZyB4bWxucz0iaHR0cDovL3d3dy53My5vcmcvMjAwMC9zdmciIHdpZHRoPSIxMyIgaGVpZ2h0PSIxMiI+PHBhdGggZmlsbD0iI0ZGRiIgZD0iTTYuNSA5LjQzOWwtMy42NzQgMi4yMy45NC00LjI2LTMuMjEtMi44ODMgNC4yNTQtLjQwNEw2LjUuMTEybDEuNjkgNC4wMSA0LjI1NC40MDQtMy4yMSAyLjg4Mi45NCA0LjI2eiIvPjwvc3ZnPg==\"/></div>,\n",
       " <div class=\"_3LWZlK\">4.4<img class=\"_1wB99o\" src=\"data:image/svg+xml;base64,PHN2ZyB4bWxucz0iaHR0cDovL3d3dy53My5vcmcvMjAwMC9zdmciIHdpZHRoPSIxMyIgaGVpZ2h0PSIxMiI+PHBhdGggZmlsbD0iI0ZGRiIgZD0iTTYuNSA5LjQzOWwtMy42NzQgMi4yMy45NC00LjI2LTMuMjEtMi44ODMgNC4yNTQtLjQwNEw2LjUuMTEybDEuNjkgNC4wMSA0LjI1NC40MDQtMy4yMSAyLjg4Mi45NCA0LjI2eiIvPjwvc3ZnPg==\"/></div>,\n",
       " <div class=\"_3LWZlK\">4.4<img class=\"_1wB99o\" src=\"data:image/svg+xml;base64,PHN2ZyB4bWxucz0iaHR0cDovL3d3dy53My5vcmcvMjAwMC9zdmciIHdpZHRoPSIxMyIgaGVpZ2h0PSIxMiI+PHBhdGggZmlsbD0iI0ZGRiIgZD0iTTYuNSA5LjQzOWwtMy42NzQgMi4yMy45NC00LjI2LTMuMjEtMi44ODMgNC4yNTQtLjQwNEw2LjUuMTEybDEuNjkgNC4wMSA0LjI1NC40MDQtMy4yMSAyLjg4Mi45NCA0LjI2eiIvPjwvc3ZnPg==\"/></div>,\n",
       " <div class=\"_3LWZlK\">4.3<img class=\"_1wB99o\" src=\"data:image/svg+xml;base64,PHN2ZyB4bWxucz0iaHR0cDovL3d3dy53My5vcmcvMjAwMC9zdmciIHdpZHRoPSIxMyIgaGVpZ2h0PSIxMiI+PHBhdGggZmlsbD0iI0ZGRiIgZD0iTTYuNSA5LjQzOWwtMy42NzQgMi4yMy45NC00LjI2LTMuMjEtMi44ODMgNC4yNTQtLjQwNEw2LjUuMTEybDEuNjkgNC4wMSA0LjI1NC40MDQtMy4yMSAyLjg4Mi45NCA0LjI2eiIvPjwvc3ZnPg==\"/></div>]"
      ]
     },
     "execution_count": 13,
     "metadata": {},
     "output_type": "execute_result"
    }
   ],
   "source": [
    "stars_class= \"_3LWZlK\"\n",
    "stars_tags = doc.findAll('div', class_=stars_class)\n",
    "stars_text = [] \n",
    "stars_tags[:4]"
   ]
  },
  {
   "cell_type": "code",
   "execution_count": 14,
   "id": "dcefeaf6",
   "metadata": {},
   "outputs": [],
   "source": [
    "reviews_class = \"_2_R_DZ\""
   ]
  },
  {
   "cell_type": "code",
   "execution_count": 15,
   "id": "33932c1e",
   "metadata": {},
   "outputs": [
    {
     "data": {
      "text/plain": [
       "[<span class=\"_2_R_DZ\"><span><span>55,338 Ratings </span><span class=\"_13vcmD\">&amp;</span><span> 3,762 Reviews</span></span></span>,\n",
       " <span class=\"_2_R_DZ\"><span><span>1,135 Ratings </span><span class=\"_13vcmD\">&amp;</span><span> 101 Reviews</span></span></span>,\n",
       " <span class=\"_2_R_DZ\"><span><span>1,135 Ratings </span><span class=\"_13vcmD\">&amp;</span><span> 101 Reviews</span></span></span>,\n",
       " <span class=\"_2_R_DZ\"><span><span>37,122 Ratings </span><span class=\"_13vcmD\">&amp;</span><span> 4,024 Reviews</span></span></span>]"
      ]
     },
     "execution_count": 15,
     "metadata": {},
     "output_type": "execute_result"
    }
   ],
   "source": [
    "reviews_tags = doc.findAll('span', class_=reviews_class)\n",
    "reviews_text = []\n",
    "reviews_tags[:4]"
   ]
  },
  {
   "cell_type": "code",
   "execution_count": 16,
   "id": "f29c4098",
   "metadata": {},
   "outputs": [],
   "source": [
    "url_class = \"_1fQZEK\"\n",
    "base_url = \"https://www.flipkart.com\"\n",
    "url_tags = doc.findAll('a', class_=url_class)\n",
    "url_product = []\n",
    "for i in range(len(url_tags)):\n",
    "    url_product.append(base_url+url_tags[i]['href'])\n"
   ]
  },
  {
   "cell_type": "code",
   "execution_count": 17,
   "id": "099d126c",
   "metadata": {},
   "outputs": [],
   "source": [
    "for i in range(len(reviews_tags)):\n",
    "        price_text.append(price_tags[i].text)\n",
    "        name_text.append(heading_tags[i].text)\n",
    "        stars_text.append(stars_tags[i].text)\n",
    "        reviews_text.append(reviews_tags[i].text)\n",
    "        reviews_text[i]=reviews_text[i].replace(\"\\xa0\",\" \")\n"
   ]
  },
  {
   "cell_type": "markdown",
   "id": "644b4844",
   "metadata": {},
   "source": [
    "- What we did in the above for loop is we made 4 different lists to store all the data in string format and is the list have the data of that particular product and every other list have its rest of the data respective to its indices"
   ]
  },
  {
   "cell_type": "code",
   "execution_count": 20,
   "id": "f306882a",
   "metadata": {},
   "outputs": [
    {
     "data": {
      "text/html": [
       "<div>\n",
       "<style scoped>\n",
       "    .dataframe tbody tr th:only-of-type {\n",
       "        vertical-align: middle;\n",
       "    }\n",
       "\n",
       "    .dataframe tbody tr th {\n",
       "        vertical-align: top;\n",
       "    }\n",
       "\n",
       "    .dataframe thead th {\n",
       "        text-align: right;\n",
       "    }\n",
       "</style>\n",
       "<table border=\"1\" class=\"dataframe\">\n",
       "  <thead>\n",
       "    <tr style=\"text-align: right;\">\n",
       "      <th></th>\n",
       "      <th>name</th>\n",
       "      <th>price</th>\n",
       "      <th>stars</th>\n",
       "      <th>reviews</th>\n",
       "      <th>url</th>\n",
       "    </tr>\n",
       "  </thead>\n",
       "  <tbody>\n",
       "    <tr>\n",
       "      <th>0</th>\n",
       "      <td>realme 8i (Space Black, 128 GB)</td>\n",
       "      <td>₹15,999</td>\n",
       "      <td>4.4</td>\n",
       "      <td>55,338 Ratings &amp; 3,762 Reviews</td>\n",
       "      <td>https://www.flipkart.com/realme-8i-space-black...</td>\n",
       "    </tr>\n",
       "    <tr>\n",
       "      <th>1</th>\n",
       "      <td>realme 9i (Prism Black, 128 GB)</td>\n",
       "      <td>₹15,999</td>\n",
       "      <td>4.4</td>\n",
       "      <td>1,135 Ratings &amp; 101 Reviews</td>\n",
       "      <td>https://www.flipkart.com/realme-9i-prism-black...</td>\n",
       "    </tr>\n",
       "    <tr>\n",
       "      <th>2</th>\n",
       "      <td>realme 9i (Prism Blue, 128 GB)</td>\n",
       "      <td>₹15,999</td>\n",
       "      <td>4.4</td>\n",
       "      <td>1,135 Ratings &amp; 101 Reviews</td>\n",
       "      <td>https://www.flipkart.com/realme-9i-prism-blue-...</td>\n",
       "    </tr>\n",
       "    <tr>\n",
       "      <th>3</th>\n",
       "      <td>MOTOROLA G40 Fusion (Dynamic Gray, 128 GB)</td>\n",
       "      <td>₹16,499</td>\n",
       "      <td>4.3</td>\n",
       "      <td>37,122 Ratings &amp; 4,024 Reviews</td>\n",
       "      <td>https://www.flipkart.com/motorola-g40-fusion-d...</td>\n",
       "    </tr>\n",
       "  </tbody>\n",
       "</table>\n",
       "</div>"
      ],
      "text/plain": [
       "                                         name    price stars  \\\n",
       "0             realme 8i (Space Black, 128 GB)  ₹15,999   4.4   \n",
       "1             realme 9i (Prism Black, 128 GB)  ₹15,999   4.4   \n",
       "2              realme 9i (Prism Blue, 128 GB)  ₹15,999   4.4   \n",
       "3  MOTOROLA G40 Fusion (Dynamic Gray, 128 GB)  ₹16,499   4.3   \n",
       "\n",
       "                          reviews  \\\n",
       "0  55,338 Ratings & 3,762 Reviews   \n",
       "1     1,135 Ratings & 101 Reviews   \n",
       "2     1,135 Ratings & 101 Reviews   \n",
       "3  37,122 Ratings & 4,024 Reviews   \n",
       "\n",
       "                                                 url  \n",
       "0  https://www.flipkart.com/realme-8i-space-black...  \n",
       "1  https://www.flipkart.com/realme-9i-prism-black...  \n",
       "2  https://www.flipkart.com/realme-9i-prism-blue-...  \n",
       "3  https://www.flipkart.com/motorola-g40-fusion-d...  "
      ]
     },
     "execution_count": 20,
     "metadata": {},
     "output_type": "execute_result"
    }
   ],
   "source": [
    "product_dict={'name':name_text,'price':price_text,'stars':stars_text,'reviews':reviews_text,'url':url_product}\n",
    "import pandas as pd\n",
    "products_df=pd.DataFrame(product_dict)\n",
    "products_df[:4]"
   ]
  },
  {
   "cell_type": "code",
   "execution_count": 21,
   "id": "0049d969",
   "metadata": {},
   "outputs": [],
   "source": [
    "products_df.to_csv('products.csv')"
   ]
  }
 ],
 "metadata": {
  "kernelspec": {
   "display_name": "Python 3 (ipykernel)",
   "language": "python",
   "name": "python3"
  },
  "language_info": {
   "codemirror_mode": {
    "name": "ipython",
    "version": 3
   },
   "file_extension": ".py",
   "mimetype": "text/x-python",
   "name": "python",
   "nbconvert_exporter": "python",
   "pygments_lexer": "ipython3",
   "version": "3.9.7"
  }
 },
 "nbformat": 4,
 "nbformat_minor": 5
}
